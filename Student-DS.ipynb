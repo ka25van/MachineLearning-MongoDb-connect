{
 "cells": [
  {
   "cell_type": "code",
   "execution_count": 1,
   "id": "30106314",
   "metadata": {},
   "outputs": [
    {
     "name": "stdout",
     "output_type": "stream",
     "text": [
      "Defaulting to user installation because normal site-packages is not writeable\n",
      "Requirement already satisfied: pymongo in c:\\users\\kaverappa mapanamada\\appdata\\roaming\\python\\python310\\site-packages (4.4.0)\n",
      "Requirement already satisfied: dnspython<3.0.0,>=1.16.0 in c:\\users\\kaverappa mapanamada\\appdata\\roaming\\python\\python310\\site-packages (from pymongo) (2.3.0)\n",
      "Note: you may need to restart the kernel to use updated packages.\n"
     ]
    },
    {
     "name": "stderr",
     "output_type": "stream",
     "text": [
      "\n",
      "[notice] A new release of pip is available: 23.1 -> 23.1.2\n",
      "[notice] To update, run: python.exe -m pip install --upgrade pip\n"
     ]
    }
   ],
   "source": [
    "pip install pymongo  #install python with mongo"
   ]
  },
  {
   "cell_type": "code",
   "execution_count": 2,
   "id": "6ae106ef",
   "metadata": {},
   "outputs": [],
   "source": [
    "import pymongo"
   ]
  },
  {
   "cell_type": "code",
   "execution_count": 3,
   "id": "1278af21",
   "metadata": {},
   "outputs": [],
   "source": [
    "#Paste the Mongodb connection link\n",
    "client=pymongo.MongoClient(\"mongodb+srv://<username>:<password>@cluster0.ueh6ewg.mongodb.net/?retryWrites=true&w=majority\")\n",
    "db=client.test"
   ]
  },
  {
   "cell_type": "code",
   "execution_count": 4,
   "id": "720bbcb8",
   "metadata": {},
   "outputs": [],
   "source": [
    "#First we need to create a database\n",
    "database_name='student'\n",
    "student_database=client[database_name]"
   ]
  },
  {
   "cell_type": "code",
   "execution_count": 5,
   "id": "1f853c10",
   "metadata": {},
   "outputs": [],
   "source": [
    "#Create a collection\n",
    "collection='student_database'"
   ]
  },
  {
   "cell_type": "code",
   "execution_count": 6,
   "id": "c2f7a479",
   "metadata": {},
   "outputs": [],
   "source": [
    "#To store the collection in a file\n",
    "student_details_collection=student_database[collection]"
   ]
  },
  {
   "cell_type": "code",
   "execution_count": 7,
   "id": "b7ecb381",
   "metadata": {},
   "outputs": [],
   "source": [
    "#Since MongoDb store data in json form, so we need to to create key and value for it\n",
    "student_data={\n",
    "    \"name\":\"Kavan\",\n",
    "    \"Address\":\"ABCD\",\n",
    "    \"email\":\"abc@gmail.com\"\n",
    "}\n"
   ]
  },
  {
   "cell_type": "code",
   "execution_count": 8,
   "id": "52772e24",
   "metadata": {},
   "outputs": [],
   "source": [
    "student_data={\n",
    "    \"name\":\"Monica\",\n",
    "    \"Address\":\"efgh\",\n",
    "    \"email\":\"jkjc@gmail.com\"\n",
    "}"
   ]
  },
  {
   "cell_type": "code",
   "execution_count": 42,
   "id": "84c57799",
   "metadata": {},
   "outputs": [],
   "source": [
    "student_data={\n",
    "    \"name\":\"Raman\",\n",
    "    \"Address\":\"gkjjj\",\n",
    "    \"email\":\"geiebjkc@gmail.com\",\n",
    "    \"Age\":34\n",
    "}"
   ]
  },
  {
   "cell_type": "code",
   "execution_count": 43,
   "id": "b467ee90",
   "metadata": {},
   "outputs": [
    {
     "data": {
      "text/plain": [
       "<pymongo.results.InsertOneResult at 0x241559f79d0>"
      ]
     },
     "execution_count": 43,
     "metadata": {},
     "output_type": "execute_result"
    }
   ],
   "source": [
    "#To insert data\n",
    "student_details_collection.insert_one(student_data)  #If you are facing Operation Error,it is due to the Mongodbconncection password, reset and enter"
   ]
  },
  {
   "cell_type": "code",
   "execution_count": 44,
   "id": "49092d9f",
   "metadata": {},
   "outputs": [],
   "source": [
    "#To fetch data\n",
    "student_cursor=student_details_collection.find()"
   ]
  },
  {
   "cell_type": "code",
   "execution_count": 45,
   "id": "df25366f",
   "metadata": {
    "scrolled": true
   },
   "outputs": [
    {
     "data": {
      "text/plain": [
       "{'_id': ObjectId('64945b421f5fc863f2b5e875'),\n",
       " 'name': 'Kavan',\n",
       " 'Address': 'ABCD',\n",
       " 'email': 'abc@gmail.com'}"
      ]
     },
     "execution_count": 45,
     "metadata": {},
     "output_type": "execute_result"
    }
   ],
   "source": [
    "student_cursor.next()"
   ]
  },
  {
   "cell_type": "code",
   "execution_count": 46,
   "id": "495a96ea",
   "metadata": {},
   "outputs": [
    {
     "data": {
      "text/plain": [
       "{'_id': ObjectId('64945b651f5fc863f2b5e876'),\n",
       " 'name': 'Monica',\n",
       " 'Address': 'efgh',\n",
       " 'email': 'jkjc@gmail.com'}"
      ]
     },
     "execution_count": 46,
     "metadata": {},
     "output_type": "execute_result"
    }
   ],
   "source": [
    "student_cursor.next()#For new data use next()"
   ]
  },
  {
   "cell_type": "code",
   "execution_count": 47,
   "id": "28291bb7",
   "metadata": {},
   "outputs": [
    {
     "data": {
      "text/plain": [
       "{'_id': ObjectId('64946087d4cd7221be80ded0'),\n",
       " 'name': 'Raman',\n",
       " 'Address': 'gkjjj',\n",
       " 'email': 'geiebjkc@gmail.com',\n",
       " 'Age': '34'}"
      ]
     },
     "execution_count": 47,
     "metadata": {},
     "output_type": "execute_result"
    }
   ],
   "source": [
    "student_cursor.next()"
   ]
  },
  {
   "cell_type": "code",
   "execution_count": 48,
   "id": "8c43b152",
   "metadata": {},
   "outputs": [
    {
     "name": "stdout",
     "output_type": "stream",
     "text": [
      "{'_id': ObjectId('64945b421f5fc863f2b5e875'), 'name': 'Kavan', 'Address': 'ABCD', 'email': 'abc@gmail.com'}\n",
      "{'_id': ObjectId('64945b651f5fc863f2b5e876'), 'name': 'Monica', 'Address': 'efgh', 'email': 'jkjc@gmail.com'}\n",
      "{'_id': ObjectId('64946087d4cd7221be80ded0'), 'name': 'Raman', 'Address': 'gkjjj', 'email': 'geiebjkc@gmail.com', 'Age': '34'}\n",
      "{'_id': ObjectId('649460cdd4cd7221be80ded1'), 'name': 'Raman', 'Address': 'gkjjj', 'email': 'geiebjkc@gmail.com', 'Age': 34}\n"
     ]
    }
   ],
   "source": [
    "#So instead of doing next; we can simply do a for loop\n",
    "for student_details in student_details_collection.find():\n",
    "    print(student_details)\n",
    "    "
   ]
  },
  {
   "cell_type": "code",
   "execution_count": 50,
   "id": "e8337b97",
   "metadata": {},
   "outputs": [],
   "source": [
    "#Now let's do it for many data\n",
    "student_data_list=[{\"name\":\"Akshay\", \"Place\":\"Goa\"},\n",
    "                  {\"city\":\"Bombay\", \"book\":\"Rotate\"}]"
   ]
  },
  {
   "cell_type": "code",
   "execution_count": 51,
   "id": "718f4a6d",
   "metadata": {},
   "outputs": [
    {
     "data": {
      "text/plain": [
       "<pymongo.results.InsertManyResult at 0x241559f7430>"
      ]
     },
     "execution_count": 51,
     "metadata": {},
     "output_type": "execute_result"
    }
   ],
   "source": [
    "student_details_collection.insert_many(student_data_list)"
   ]
  },
  {
   "cell_type": "code",
   "execution_count": 53,
   "id": "849f734b",
   "metadata": {},
   "outputs": [
    {
     "name": "stdout",
     "output_type": "stream",
     "text": [
      "{'_id': ObjectId('64945b421f5fc863f2b5e875'), 'name': 'Kavan', 'Address': 'ABCD', 'email': 'abc@gmail.com'}\n",
      "{'_id': ObjectId('64945b651f5fc863f2b5e876'), 'name': 'Monica', 'Address': 'efgh', 'email': 'jkjc@gmail.com'}\n",
      "{'_id': ObjectId('64946087d4cd7221be80ded0'), 'name': 'Raman', 'Address': 'gkjjj', 'email': 'geiebjkc@gmail.com', 'Age': '34'}\n",
      "{'_id': ObjectId('649460cdd4cd7221be80ded1'), 'name': 'Raman', 'Address': 'gkjjj', 'email': 'geiebjkc@gmail.com', 'Age': 34}\n",
      "{'_id': ObjectId('64946220d4cd7221be80ded2'), 'name': 'Akshay', 'Place': 'Goa'}\n",
      "{'_id': ObjectId('64946220d4cd7221be80ded3'), 'city': 'Bombay', 'book': 'Rotate'}\n"
     ]
    }
   ],
   "source": [
    "for student_details in student_details_collection.find():\n",
    "    print(student_details)"
   ]
  },
  {
   "cell_type": "code",
   "execution_count": 54,
   "id": "5fc9b1a2",
   "metadata": {},
   "outputs": [],
   "source": [
    "#Filter Option\n",
    "query= {\"name\":\"Monica\"}"
   ]
  },
  {
   "cell_type": "code",
   "execution_count": 55,
   "id": "5b3f5800",
   "metadata": {},
   "outputs": [
    {
     "name": "stdout",
     "output_type": "stream",
     "text": [
      "{'_id': ObjectId('64945b651f5fc863f2b5e876'), 'name': 'Monica', 'Address': 'efgh', 'email': 'jkjc@gmail.com'}\n"
     ]
    }
   ],
   "source": [
    "for student_details in student_details_collection.find(query):\n",
    "    print(student_details)"
   ]
  },
  {
   "cell_type": "code",
   "execution_count": 56,
   "id": "84bc91f2",
   "metadata": {},
   "outputs": [],
   "source": [
    "query= {\"name\":\"Kavan\"}"
   ]
  },
  {
   "cell_type": "code",
   "execution_count": 57,
   "id": "166f495c",
   "metadata": {},
   "outputs": [
    {
     "name": "stdout",
     "output_type": "stream",
     "text": [
      "{'_id': ObjectId('64945b421f5fc863f2b5e875'), 'name': 'Kavan', 'Address': 'ABCD', 'email': 'abc@gmail.com'}\n"
     ]
    }
   ],
   "source": [
    "for student_details in student_details_collection.find(query):\n",
    "    print(student_details)"
   ]
  },
  {
   "cell_type": "code",
   "execution_count": 58,
   "id": "1e0a6985",
   "metadata": {},
   "outputs": [],
   "source": [
    "query= {\"name\":\"Raman\", \"city\":\"Bombay\"}#since this fetch is from multiple columns data won't be shown"
   ]
  },
  {
   "cell_type": "code",
   "execution_count": 61,
   "id": "e45c2617",
   "metadata": {},
   "outputs": [],
   "source": [
    "for student_details in student_details_collection.find({\"name\":\"Raman\", \"city\":\"Bombay\"}):\n",
    "    print(student_details)"
   ]
  },
  {
   "cell_type": "code",
   "execution_count": 62,
   "id": "f1719b2a",
   "metadata": {},
   "outputs": [],
   "source": [
    "query= {\"name\":\"Raman\", \"Address\":\"gkjjj\"}#Only row type must be selected"
   ]
  },
  {
   "cell_type": "code",
   "execution_count": 63,
   "id": "0f900038",
   "metadata": {},
   "outputs": [
    {
     "name": "stdout",
     "output_type": "stream",
     "text": [
      "{'_id': ObjectId('64946087d4cd7221be80ded0'), 'name': 'Raman', 'Address': 'gkjjj', 'email': 'geiebjkc@gmail.com', 'Age': '34'}\n",
      "{'_id': ObjectId('649460cdd4cd7221be80ded1'), 'name': 'Raman', 'Address': 'gkjjj', 'email': 'geiebjkc@gmail.com', 'Age': 34}\n"
     ]
    }
   ],
   "source": [
    "for student_details in student_details_collection.find(query):\n",
    "    print(student_details)"
   ]
  },
  {
   "cell_type": "code",
   "execution_count": 80,
   "id": "a70e6b9e",
   "metadata": {},
   "outputs": [],
   "source": [
    "#Fetch for specific letters\n",
    "query={\"Address\":{\"$regex\":\"^g\"}}"
   ]
  },
  {
   "cell_type": "code",
   "execution_count": 95,
   "id": "4cc6f673",
   "metadata": {},
   "outputs": [],
   "source": [
    "doc = student_details_collection.find(query)"
   ]
  },
  {
   "cell_type": "code",
   "execution_count": 96,
   "id": "502cce2d",
   "metadata": {},
   "outputs": [
    {
     "name": "stdout",
     "output_type": "stream",
     "text": [
      "{'_id': ObjectId('64946087d4cd7221be80ded0'), 'name': 'Raman', 'Address': 'gkjjj', 'email': 'geiebjkc@gmail.com', 'Age': '34'}\n",
      "{'_id': ObjectId('649460cdd4cd7221be80ded1'), 'name': 'Raman', 'Address': 'gkjjj', 'email': 'geiebjkc@gmail.com', 'Age': 34}\n"
     ]
    }
   ],
   "source": [
    "for specific in doc:\n",
    "    print(specific)"
   ]
  },
  {
   "cell_type": "code",
   "execution_count": 98,
   "id": "09793c19",
   "metadata": {},
   "outputs": [
    {
     "name": "stdout",
     "output_type": "stream",
     "text": [
      "{'_id': ObjectId('64946220d4cd7221be80ded3'), 'city': 'Bombay', 'book': 'Rotate'}\n",
      "{'_id': ObjectId('64946220d4cd7221be80ded2'), 'name': 'Akshay', 'Place': 'Goa'}\n",
      "{'_id': ObjectId('64945b421f5fc863f2b5e875'), 'name': 'Kavan', 'Address': 'ABCD', 'email': 'abc@gmail.com'}\n",
      "{'_id': ObjectId('64945b651f5fc863f2b5e876'), 'name': 'Monica', 'Address': 'efgh', 'email': 'jkjc@gmail.com'}\n",
      "{'_id': ObjectId('64946087d4cd7221be80ded0'), 'name': 'Raman', 'Address': 'gkjjj', 'email': 'geiebjkc@gmail.com', 'Age': '34'}\n",
      "{'_id': ObjectId('649460cdd4cd7221be80ded1'), 'name': 'Raman', 'Address': 'gkjjj', 'email': 'geiebjkc@gmail.com', 'Age': 34}\n"
     ]
    }
   ],
   "source": [
    "#Sort \n",
    "doc = student_details_collection.find().sort(\"name\")\n",
    "for x in doc:\n",
    "    print(x)"
   ]
  },
  {
   "cell_type": "code",
   "execution_count": 114,
   "id": "17398339",
   "metadata": {},
   "outputs": [],
   "source": [
    "#Delete\n",
    "query = {\"name\":{\"$regex\":\"^K\"}}\n"
   ]
  },
  {
   "cell_type": "code",
   "execution_count": 115,
   "id": "8752c0b0",
   "metadata": {},
   "outputs": [
    {
     "data": {
      "text/plain": [
       "<pymongo.results.DeleteResult at 0x24155b70760>"
      ]
     },
     "execution_count": 115,
     "metadata": {},
     "output_type": "execute_result"
    }
   ],
   "source": [
    "student_details_collection.delete_one(query)\n"
   ]
  },
  {
   "cell_type": "code",
   "execution_count": 116,
   "id": "02e27722",
   "metadata": {},
   "outputs": [
    {
     "name": "stdout",
     "output_type": "stream",
     "text": [
      "{'_id': ObjectId('64945b651f5fc863f2b5e876'), 'name': 'Monica', 'Address': 'efgh', 'email': 'jkjc@gmail.com'}\n",
      "{'_id': ObjectId('64946087d4cd7221be80ded0'), 'name': 'Raman', 'Address': 'gkjjj', 'email': 'geiebjkc@gmail.com', 'Age': '34'}\n",
      "{'_id': ObjectId('649460cdd4cd7221be80ded1'), 'name': 'Raman', 'Address': 'gkjjj', 'email': 'geiebjkc@gmail.com', 'Age': 34}\n",
      "{'_id': ObjectId('64946220d4cd7221be80ded2'), 'name': 'Akshay', 'Place': 'Goa'}\n",
      "{'_id': ObjectId('64946220d4cd7221be80ded3'), 'city': 'Bombay', 'book': 'Rotate'}\n"
     ]
    }
   ],
   "source": [
    "for x in student_details_collection.find():\n",
    "    print(x)"
   ]
  },
  {
   "cell_type": "code",
   "execution_count": 129,
   "id": "f8a9d6ce",
   "metadata": {},
   "outputs": [],
   "source": [
    "query = {\"name\":{\"$regex\":\"^M\"}}"
   ]
  },
  {
   "cell_type": "code",
   "execution_count": 130,
   "id": "1df31118",
   "metadata": {},
   "outputs": [],
   "source": [
    "x = student_details_collection.delete_many(query)"
   ]
  },
  {
   "cell_type": "code",
   "execution_count": 131,
   "id": "dbf5de37",
   "metadata": {},
   "outputs": [
    {
     "name": "stdout",
     "output_type": "stream",
     "text": [
      "1\n"
     ]
    }
   ],
   "source": [
    "print(x.deleted_count)"
   ]
  },
  {
   "cell_type": "code",
   "execution_count": null,
   "id": "675fc643",
   "metadata": {},
   "outputs": [],
   "source": []
  },
  {
   "cell_type": "code",
   "execution_count": null,
   "id": "2893d5ea",
   "metadata": {},
   "outputs": [],
   "source": []
  },
  {
   "cell_type": "code",
   "execution_count": null,
   "id": "2201e8b3",
   "metadata": {},
   "outputs": [],
   "source": []
  }
 ],
 "metadata": {
  "kernelspec": {
   "display_name": "Python 3 (ipykernel)",
   "language": "python",
   "name": "python3"
  },
  "language_info": {
   "codemirror_mode": {
    "name": "ipython",
    "version": 3
   },
   "file_extension": ".py",
   "mimetype": "text/x-python",
   "name": "python",
   "nbconvert_exporter": "python",
   "pygments_lexer": "ipython3",
   "version": "3.10.9"
  }
 },
 "nbformat": 4,
 "nbformat_minor": 5
}
